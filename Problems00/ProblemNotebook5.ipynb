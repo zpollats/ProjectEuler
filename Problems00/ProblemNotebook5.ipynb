{
 "cells": [
  {
   "cell_type": "markdown",
   "id": "59beab92",
   "metadata": {},
   "source": [
    "# Problem 5"
   ]
  },
  {
   "cell_type": "markdown",
   "id": "238cdea6",
   "metadata": {},
   "source": [
    "2520 is the smallest number that can be divided by each of the numbers from 1 to 10 without any remainder.\n",
    "\n",
    "What is the smallest positive number that is evenly divisible by all of the numbers from 1 to 20?\n",
    "\n",
    "Link: [Problem 5](https://projecteuler.net/problem=5)"
   ]
  },
  {
   "cell_type": "code",
   "execution_count": 36,
   "id": "746e2c76",
   "metadata": {},
   "outputs": [],
   "source": [
    "fact_list = {}\n",
    "\n",
    "for i in range(20, 100, 20):\n",
    "    for x in range (1, 10):\n",
    "        if i % x != 0:\n",
    "            continue\n",
    "        else: \n",
    "            if i in fact_list:\n",
    "                continue\n",
    "            else:\n",
    "                fact_list[x] = i\n"
   ]
  },
  {
   "cell_type": "code",
   "execution_count": 35,
   "id": "b7938d3d",
   "metadata": {},
   "outputs": [
    {
     "data": {
      "text/plain": [
       "{1: 80, 2: 80, 4: 80, 3: 60}"
      ]
     },
     "execution_count": 35,
     "metadata": {},
     "output_type": "execute_result"
    }
   ],
   "source": [
    "fact_list"
   ]
  },
  {
   "cell_type": "code",
   "execution_count": null,
   "id": "29836d80",
   "metadata": {},
   "outputs": [],
   "source": []
  }
 ],
 "metadata": {
  "kernelspec": {
   "display_name": "Python 3 (ipykernel)",
   "language": "python",
   "name": "python3"
  },
  "language_info": {
   "codemirror_mode": {
    "name": "ipython",
    "version": 3
   },
   "file_extension": ".py",
   "mimetype": "text/x-python",
   "name": "python",
   "nbconvert_exporter": "python",
   "pygments_lexer": "ipython3",
   "version": "3.9.12"
  }
 },
 "nbformat": 4,
 "nbformat_minor": 5
}
