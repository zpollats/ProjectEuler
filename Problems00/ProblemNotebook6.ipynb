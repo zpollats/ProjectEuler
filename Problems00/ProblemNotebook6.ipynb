{
 "cells": [
  {
   "cell_type": "markdown",
   "id": "6cab824e",
   "metadata": {},
   "source": [
    "# Problem 6"
   ]
  },
  {
   "cell_type": "markdown",
   "id": "4ab84022",
   "metadata": {},
   "source": [
    "The sum of the squares of the first ten natural numbers is,\n",
    "\n",
    "$1^{2} + 2^{2} + ... + 10^{2} = 385$\n",
    "\n",
    "The square of the sum of the first ten natural numbers is,\n",
    "\n",
    "$(1 + 2 + ... + 10)^{2} = 3025$\n",
    "\n",
    "Hence the difference between the sum of the squares of the first ten natural numbers and the square of the sum is $3025 - 385 = 2640$.\n",
    "\n",
    "Find the difference between the sum of the squares of the first one hundred natural numbers and the square of the sum."
   ]
  },
  {
   "cell_type": "code",
   "execution_count": 19,
   "id": "e6bfe68c",
   "metadata": {},
   "outputs": [],
   "source": [
    "def square_sum_diff(num):\n",
    "    ind_sq_sum = 0\n",
    "    for i in range(1, num+1):\n",
    "        ind_sq_sum += i ** 2\n",
    "    \n",
    "    sq_sum = sum(list(range(1, num+1))) ** 2\n",
    "    \n",
    "    diff = sq_sum - ind_sq_sum\n",
    "    \n",
    "    return diff"
   ]
  },
  {
   "cell_type": "code",
   "execution_count": 20,
   "id": "6026e823",
   "metadata": {},
   "outputs": [
    {
     "data": {
      "text/plain": [
       "25164150"
      ]
     },
     "execution_count": 20,
     "metadata": {},
     "output_type": "execute_result"
    }
   ],
   "source": [
    "square_sum_diff(100)"
   ]
  },
  {
   "cell_type": "code",
   "execution_count": null,
   "id": "7244380a",
   "metadata": {},
   "outputs": [],
   "source": []
  }
 ],
 "metadata": {
  "kernelspec": {
   "display_name": "Python 3 (ipykernel)",
   "language": "python",
   "name": "python3"
  },
  "language_info": {
   "codemirror_mode": {
    "name": "ipython",
    "version": 3
   },
   "file_extension": ".py",
   "mimetype": "text/x-python",
   "name": "python",
   "nbconvert_exporter": "python",
   "pygments_lexer": "ipython3",
   "version": "3.9.12"
  }
 },
 "nbformat": 4,
 "nbformat_minor": 5
}
