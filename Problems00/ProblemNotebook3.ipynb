{
 "cells": [
  {
   "cell_type": "markdown",
   "id": "b512e74f",
   "metadata": {},
   "source": [
    "# Problem 3"
   ]
  },
  {
   "cell_type": "markdown",
   "id": "83537929",
   "metadata": {},
   "source": [
    "The prime factors of 13195 are 5, 7, 13 and 29.\n",
    "\n",
    "What is the largest prime factor of the number 600851475143?\n",
    "\n",
    "Link: [Problem 3](https://projecteuler.net/problem=3)"
   ]
  },
  {
   "cell_type": "code",
   "execution_count": 90,
   "id": "b0229df9",
   "metadata": {},
   "outputs": [],
   "source": [
    "num = 600851475143"
   ]
  },
  {
   "cell_type": "code",
   "execution_count": 91,
   "id": "418d1134",
   "metadata": {},
   "outputs": [],
   "source": [
    "prime = []"
   ]
  },
  {
   "cell_type": "code",
   "execution_count": 92,
   "id": "1f3b3652",
   "metadata": {},
   "outputs": [],
   "source": [
    "for potential in range(2, 100000):\n",
    "    flag = True\n",
    "    for number in range(2, potential):\n",
    "        if potential % number == 0:\n",
    "            flag = False\n",
    "            break\n",
    "    if flag:\n",
    "        prime.append(potential)\n",
    "        \n",
    "prime.reverse()"
   ]
  },
  {
   "cell_type": "code",
   "execution_count": 93,
   "id": "1659e967",
   "metadata": {},
   "outputs": [
    {
     "name": "stdout",
     "output_type": "stream",
     "text": [
      "6857\n"
     ]
    }
   ],
   "source": [
    "for i in prime:\n",
    "    if num % i == 0:\n",
    "        print(i)\n",
    "        break"
   ]
  },
  {
   "cell_type": "code",
   "execution_count": null,
   "id": "472d8f0a",
   "metadata": {},
   "outputs": [],
   "source": []
  }
 ],
 "metadata": {
  "kernelspec": {
   "display_name": "Python 3 (ipykernel)",
   "language": "python",
   "name": "python3"
  },
  "language_info": {
   "codemirror_mode": {
    "name": "ipython",
    "version": 3
   },
   "file_extension": ".py",
   "mimetype": "text/x-python",
   "name": "python",
   "nbconvert_exporter": "python",
   "pygments_lexer": "ipython3",
   "version": "3.9.12"
  }
 },
 "nbformat": 4,
 "nbformat_minor": 5
}
