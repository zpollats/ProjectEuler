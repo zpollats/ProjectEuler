{
 "cells": [
  {
   "cell_type": "markdown",
   "id": "98e66e15",
   "metadata": {},
   "source": [
    "# Problem 4"
   ]
  },
  {
   "cell_type": "markdown",
   "id": "04b11318",
   "metadata": {},
   "source": [
    "A palindromic number reads the same both ways. The largest palindrome made from the product of two 2-digit numbers is 9009 = 91 × 99.\n",
    "\n",
    "Find the largest palindrome made from the product of two 3-digit numbers.\n",
    "\n",
    "Link: [Problem 4](https://projecteuler.net/problem=4)\n"
   ]
  },
  {
   "cell_type": "code",
   "execution_count": 12,
   "id": "b4f50858",
   "metadata": {},
   "outputs": [
    {
     "name": "stdout",
     "output_type": "stream",
     "text": [
      "906609\n"
     ]
    }
   ],
   "source": [
    "mx = 0\n",
    "\n",
    "for i in range(999, 0, -1):\n",
    "    for j in range(999, 0, -1):\n",
    "        prod = i * j \n",
    "        if str(prod)[::-1] == str(prod):\n",
    "            if prod > mx:\n",
    "                mx = prod\n",
    "            \n",
    "\n",
    "print(mx)\n"
   ]
  }
 ],
 "metadata": {
  "kernelspec": {
   "display_name": "Python 3 (ipykernel)",
   "language": "python",
   "name": "python3"
  },
  "language_info": {
   "codemirror_mode": {
    "name": "ipython",
    "version": 3
   },
   "file_extension": ".py",
   "mimetype": "text/x-python",
   "name": "python",
   "nbconvert_exporter": "python",
   "pygments_lexer": "ipython3",
   "version": "3.9.12"
  }
 },
 "nbformat": 4,
 "nbformat_minor": 5
}
